{
 "cells": [
  {
   "cell_type": "markdown",
   "metadata": {},
   "source": [
    "# Lab 4\n",
    "The goal of this practical is to investigate the logistic regression model. This is broken down into four parts:\n",
    "- [Part A](#Part-A:-Investigating-line-search): investigating line search as a method for optimising black box functions\n",
    "- [Part B](PartB.ipynb): applying Newton's method and steepest descent as optimisation methods for two-dimensional functions\n",
    "- [Part C](PartC.ipynb): using the same optimisation methods for fitting a logistic regression model to simple 2D data\n",
    "- [Part D](PartD.ipynb): implementing the logistic regression model for face detection by using a binary classifier on image data"
   ]
  },
  {
   "cell_type": "markdown",
   "metadata": {},
   "source": [
    "# Part A: Investigating line search\n",
    "Look through the code to understand the goal of this part, and then fill in the 'TO DO' sections - starting with implementing the ['`line_search`'](#Optimisation-procedure) method "
   ]
  },
  {
   "cell_type": "markdown",
   "metadata": {},
   "source": [
    "### Import modules"
   ]
  },
  {
   "cell_type": "code",
   "execution_count": 1,
   "metadata": {},
   "outputs": [],
   "source": [
    "%load_ext autoreload\n",
    "%autoreload 2\n",
    "\n",
    "import matplotlib.pyplot as plt\n",
    "%matplotlib inline\n",
    "plt.style.use('machinevision.mplstyle')\n",
    "from numpy import arange, array, exp, sin\n",
    "from scipy.optimize import fmin"
   ]
  },
  {
   "cell_type": "markdown",
   "metadata": {},
   "source": [
    "# Define functions to optimise\n",
    "You can think of each of these functions as being a 'black box'"
   ]
  },
  {
   "cell_type": "code",
   "execution_count": 2,
   "metadata": {
    "collapsed": true,
    "jupyter": {
     "outputs_hidden": true
    }
   },
   "outputs": [],
   "source": [
    "def my_function(x):\n",
    "    if x < 0:\n",
    "        return -x\n",
    "    elif x > 1:\n",
    "        return -sin((1 * 1.8)**2) + x - 1\n",
    "    else:\n",
    "        return -sin((x * 1.8)**2)\n",
    "\n",
    "\n",
    "def my_function2(x):\n",
    "    if x < 0:\n",
    "        return -x - exp(-0.5 * (-0.2 / 0.025)**2)\n",
    "    elif x > 1:\n",
    "        return -sin((1 * 1.8)**2) + x - 1\n",
    "    else:\n",
    "        return -sin((x * 1.8)**2) - exp(-0.5 * ((x - 0.2) / 0.025)**2)"
   ]
  },
  {
   "cell_type": "markdown",
   "metadata": {},
   "source": [
    "# Optimisation procedure"
   ]
  },
  {
   "cell_type": "code",
   "execution_count": 3,
   "metadata": {
    "collapsed": true,
    "jupyter": {
     "outputs_hidden": true
    }
   },
   "outputs": [],
   "source": [
    "def line_search(function, start, end, tolerance):\n",
    "    a = start\n",
    "    d = end\n",
    "\n",
    "    while (d - a) > tolerance:\n",
    "        print('Current Search Region is {:6.6f} to {:6.6f}'.format(a, d))\n",
    "        \n",
    "        # TO DO - Implement a line search iteration:\n",
    "        #\n",
    "        # step 1: Remove the break above\n",
    "        # step 2: Calculate intermediate positions b and c, 1/3 and 2/3 of the way through interval\n",
    "        #         (between a and d), respectively\n",
    "        b = a + (d-a)/3\n",
    "        c = a + 2*(d-a)/3\n",
    "        #\n",
    "        # step 3:  Evaluate function at points b and c\n",
    "        #\n",
    "        # step 4:  Update point a or d depending on the values of those evaluations\n",
    "        if(function(b)<function(c)):\n",
    "            d=c\n",
    "        else:\n",
    "            a=b\n",
    "\n",
    "    return a, function(a)"
   ]
  },
  {
   "cell_type": "markdown",
   "metadata": {},
   "source": [
    "# Construct data"
   ]
  },
  {
   "cell_type": "code",
   "execution_count": 4,
   "metadata": {
    "collapsed": true,
    "jupyter": {
     "outputs_hidden": true
    }
   },
   "outputs": [],
   "source": [
    "function = my_function\n",
    "\n",
    "x = arange(0, 1, step=0.01)\n",
    "w = array([function(x_i) for x_i in x])"
   ]
  },
  {
   "cell_type": "markdown",
   "metadata": {},
   "source": [
    "# Perform optimisation"
   ]
  },
  {
   "cell_type": "markdown",
   "metadata": {},
   "source": [
    "### Line search"
   ]
  },
  {
   "cell_type": "code",
   "execution_count": 5,
   "metadata": {
    "collapsed": true,
    "jupyter": {
     "outputs_hidden": true
    }
   },
   "outputs": [
    {
     "name": "stdout",
     "output_type": "stream",
     "text": [
      "Current Search Region is 0.000000 to 1.000000\n",
      "Current Search Region is 0.333333 to 1.000000\n",
      "Current Search Region is 0.555556 to 1.000000\n",
      "Current Search Region is 0.555556 to 0.851852\n",
      "Current Search Region is 0.555556 to 0.753086\n",
      "Current Search Region is 0.621399 to 0.753086\n",
      "Current Search Region is 0.665295 to 0.753086\n",
      "Current Search Region is 0.665295 to 0.723823\n",
      "Current Search Region is 0.684804 to 0.723823\n",
      "Current Search Region is 0.684804 to 0.710816\n",
      "Current Search Region is 0.684804 to 0.702146\n",
      "Current Search Region is 0.690585 to 0.702146\n",
      "Current Search Region is 0.690585 to 0.698292\n",
      "Current Search Region is 0.693154 to 0.698292\n",
      "Current Search Region is 0.694867 to 0.698292\n",
      "Current Search Region is 0.694867 to 0.697150\n",
      "Current Search Region is 0.695628 to 0.697150\n",
      "Current Search Region is 0.695628 to 0.696643\n",
      "Current Search Region is 0.695966 to 0.696643\n",
      "Current Search Region is 0.695966 to 0.696417\n",
      "Current Search Region is 0.696116 to 0.696417\n",
      "Current Search Region is 0.696217 to 0.696417\n",
      "Current Search Region is 0.696217 to 0.696350\n"
     ]
    }
   ],
   "source": [
    "min_x, min_value = line_search(function, start=0, end=1, tolerance=1e-4)"
   ]
  },
  {
   "cell_type": "markdown",
   "metadata": {},
   "source": [
    "### SciPy optimisation\n",
    "There is a SciPy method that can do this optimisation for you given a function.\n",
    "\n",
    "**TO DO:** Look up the help page for the function `fmin`, you can also try `?fmin` in a new jupyter cell to get an information about functions."
   ]
  },
  {
   "cell_type": "code",
   "execution_count": 6,
   "metadata": {
    "collapsed": true,
    "jupyter": {
     "outputs_hidden": true
    }
   },
   "outputs": [
    {
     "name": "stdout",
     "output_type": "stream",
     "text": [
      "Optimization terminated successfully.\n",
      "         Current function value: -1.000000\n",
      "         Iterations: 24\n",
      "         Function evaluations: 48\n"
     ]
    }
   ],
   "source": [
    "scipy_min_x = fmin(function, x0=0, xtol=1e-4)\n",
    "scipy_min_value = function(scipy_min_x)"
   ]
  },
  {
   "cell_type": "markdown",
   "metadata": {},
   "source": [
    "# Visualise results\n",
    "If everything is working correctly the optimised `x` from the line search and the result from `fmin` should coincide, and appear to be at the function's minimum"
   ]
  },
  {
   "cell_type": "code",
   "execution_count": 7,
   "metadata": {
    "collapsed": true,
    "jupyter": {
     "outputs_hidden": true
    }
   },
   "outputs": [
    {
     "data": {
      "image/png": "[encoded data removed]",
      "text/plain": [
       "<Figure size 648x576 with 1 Axes>"
      ]
     },
     "metadata": {
      "needs_background": "light"
     },
     "output_type": "display_data"
    }
   ],
   "source": [
    "fig, ax = plt.subplots(figsize=(9, 8))\n",
    "\n",
    "ax.plot(x, w, 'b-')\n",
    "ax.plot(scipy_min_x, scipy_min_value, 'ro', markeredgewidth=2, markersize=22, label='SciPy')\n",
    "ax.plot(min_x, min_value, 'bo', fillstyle='full', label='line search')\n",
    "\n",
    "ax.set(xlabel='$x$', ylabel='$f(x)$', xlim=[0, 1], ylim=[-1.5, 0.5])\n",
    "plt.legend();"
   ]
  },
  {
   "cell_type": "markdown",
   "metadata": {},
   "source": [
    "## TO DO\n",
    "### Repeat the process for `myfunction2`\n",
    "Try using different initialisations in order to find the *global* minimum"
   ]
  },
  {
   "cell_type": "code",
   "execution_count": 27,
   "metadata": {},
   "outputs": [],
   "source": [
    "x2 = arange(0, 1, step=0.01)\n",
    "w2 = array([my_function2(x2_i) for x2_i in x2])"
   ]
  },
  {
   "cell_type": "code",
   "execution_count": 40,
   "metadata": {},
   "outputs": [
    {
     "name": "stdout",
     "output_type": "stream",
     "text": [
      "Current Search Region is 0.000000 to 0.500000\n",
      "Current Search Region is 0.000000 to 0.333333\n",
      "Current Search Region is 0.111111 to 0.333333\n",
      "Current Search Region is 0.111111 to 0.259259\n",
      "Current Search Region is 0.160494 to 0.259259\n",
      "Current Search Region is 0.160494 to 0.226337\n",
      "Current Search Region is 0.182442 to 0.226337\n",
      "Current Search Region is 0.182442 to 0.211706\n",
      "Current Search Region is 0.192196 to 0.211706\n",
      "Current Search Region is 0.192196 to 0.205202\n",
      "Current Search Region is 0.196532 to 0.205202\n",
      "Current Search Region is 0.196532 to 0.202312\n",
      "Current Search Region is 0.198459 to 0.202312\n",
      "Current Search Region is 0.199743 to 0.202312\n",
      "Current Search Region is 0.199743 to 0.201456\n",
      "Current Search Region is 0.200314 to 0.201456\n",
      "Current Search Region is 0.200314 to 0.201075\n",
      "Current Search Region is 0.200568 to 0.201075\n",
      "Current Search Region is 0.200568 to 0.200906\n",
      "Current Search Region is 0.200681 to 0.200906\n",
      "Current Search Region is 0.200756 to 0.200906\n",
      "Current Search Region is 0.200756 to 0.200856\n"
     ]
    }
   ],
   "source": [
    "min_x2, min_value2 = line_search(my_function2, start=0, end=0.5, tolerance=1e-4) #0.5 to find global min and \"skip over\" local min"
   ]
  },
  {
   "cell_type": "code",
   "execution_count": 43,
   "metadata": {},
   "outputs": [
    {
     "name": "stdout",
     "output_type": "stream",
     "text": [
      "Optimization terminated successfully.\n",
      "         Current function value: -1.129756\n",
      "         Iterations: 20\n",
      "         Function evaluations: 40\n"
     ]
    }
   ],
   "source": [
    "scipy_min_x2 = fmin(my_function2, x0=0, xtol=1e-4)\n",
    "scipy_min_value2 = my_function2(scipy_min_x2)"
   ]
  },
  {
   "cell_type": "code",
   "execution_count": 44,
   "metadata": {},
   "outputs": [
    {
     "data": {
      "image/png": "[encoded data removed]",
      "text/plain": [
       "<Figure size 648x576 with 1 Axes>"
      ]
     },
     "metadata": {
      "needs_background": "light"
     },
     "output_type": "display_data"
    }
   ],
   "source": [
    "fig, ax = plt.subplots(figsize=(9, 8))\n",
    "\n",
    "ax.plot(x2, w2, 'b-')\n",
    "ax.plot(scipy_min_x2, scipy_min_value2, 'ro', markeredgewidth=2, markersize=22, label='SciPy')\n",
    "ax.plot(min_x2, min_value2, 'bo', fillstyle='full', label='line search')\n",
    "\n",
    "ax.set(xlabel='$x$', ylabel='$f(x)$', xlim=[0, 1], ylim=[-1.5, 0.5])\n",
    "plt.legend();"
   ]
  }
 ],
 "metadata": {
  "kernelspec": {
   "display_name": "Python 3.9.7 ('base')",
   "language": "python",
   "name": "python3"
  },
  "language_info": {
   "codemirror_mode": {
    "name": "ipython",
    "version": 3
   },
   "file_extension": ".py",
   "mimetype": "text/x-python",
   "name": "python",
   "nbconvert_exporter": "python",
   "pygments_lexer": "ipython3",
   "version": "3.9.7"
  },
  "vscode": {
   "interpreter": {
    "hash": "3dd5ba0fcdb24de16818bfb70fb7995edac6a09e5545214c1bd690016a414ed1"
   }
  }
 },
 "nbformat": 4,
 "nbformat_minor": 4
}
